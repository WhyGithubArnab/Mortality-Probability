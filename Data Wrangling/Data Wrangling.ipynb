{
 "cells": [
  {
   "cell_type": "code",
   "execution_count": 1,
   "metadata": {},
   "outputs": [],
   "source": [
    "import sqlite3\n",
    "import csv\n",
    "\n",
    "# Open the csv data file it should be located in the same folder as this script\n",
    "f = open('11.csv','r') \n",
    "\n",
    "# Skip the header row\n",
    "next(f, None)\n",
    "reader = csv.reader(f)\n",
    "\n",
    "# Create the database\n",
    "sql = sqlite3.connect('NLMS.db')\n",
    "cur = sql.cursor()"
   ]
  },
  {
   "cell_type": "code",
   "execution_count": 2,
   "metadata": {},
   "outputs": [],
   "source": [
    "# Create the table if it doesn't already exist - this code has to be executed only once\n",
    "# -------------------------------------------------------------------------------------\n",
    "cur.execute('''CREATE TABLE IF NOT EXISTS NLMS_11\n",
    "            (Record INTEGER PRIMARY KEY, Age INTEGER, Race INTEGER, Sex INTEGER, MarStat INTEGER, HispOr INTEGER, AdjInc INTEGER, Educ INTEGER, PlofBirth INTEGER, Wt INTEGER, HhId INTEGER, HhNum INTEGER, RelTRf INTEGER, Occ INTEGER, MajOcc INTEGER, Ind INTEGER, MajInd INTEGER, Esr INTEGER, Urban INTEGER, SMSAST INTEGER, IndDea INTEGER, Cause113 INTEGER, Follow INTEGER, DayOD INTEGER, Hosp INTEGER, HospD INTEGER, SSNYN INTEGER, Vt INTEGER, HIStat INTEGER, HIType INTEGER, PovPct INTEGER, StateR INTEGER, RCOW INTEGER, Tenure INTEGER, Citizen INTEGER, Health INTEGER, IndAlg INTEGER, Smok100 INTEGER, AgeSmk INTEGER, SmokStat INTEGER, SmokHome INTEGER, CurrTobUse INTEGER, EverUse INTEGER)''')  \n",
    "for row in reader:\n",
    "\tcur.execute(\"INSERT OR REPLACE INTO NLMS_11 VALUES (?, ?, ?, ?, ?, ?, ?, ?, ?, ?, ?, ?, ?, ?, ?, ?, ?, ?, ?, ?, ?, ?, ?, ?, ?, ?, ?, ?, ?, ?, ?, ?, ?, ?, ?, ?, ?, ?, ?, ?, ?, ?, ?)\", row)\n",
    "\n",
    "f.close()\n",
    "sql.commit()"
   ]
  },
  {
   "cell_type": "code",
   "execution_count": 3,
   "metadata": {},
   "outputs": [
    {
     "name": "stdout",
     "output_type": "stream",
     "text": [
      "(1, 47, 1, 1, 5, 3, 14, 14, 909, 147, 745148, 2, 1, 420, 1, 9170, 12, 1, 1, 3, 0, 0, 4018, '', '', '', 1, 0, 1, 4, 21, 16, 2, 1, 1, 2, '', '', '', '', '', '', '')\n",
      "(2, 14, 1, 1, '', 2, 14, '', 909, 89, 745148, 2, 5, '', '', '', '', '', 1, 3, 1, 95, 971, 1, '', '', 0, '', 1, 4, 21, 16, '', 1, '', 1, '', '', '', '', '', '', '')\n",
      "(3, 64, 1, 1, 1, 3, 10, 8, 909, 166, 745149, 2, 1, 9130, 10, 170, 1, 1, 1, 3, 0, 0, 4018, '', '', '', 1, 1, 1, 4, 17, 16, 2, 1, 1, 2, '', '', '', '', '', '', '')\n",
      "(4, 61, 1, 2, 1, 3, 10, 8, 909, 169, 745149, 2, 3, 5020, 5, 8190, 10, 1, 1, 3, 0, 0, 4018, '', '', '', 1, 0, 1, 4, 17, 16, 2, 1, 1, 2, '', '', '', '', '', '', '')\n",
      "(5, 8, 1, 2, '', 3, 12, '', 909, 155, 745150, 4, 4, '', '', '', '', '', 1, 3, 1, 59, 171, 6, '', '', 1, '', 1, 4, 15, 16, '', 1, '', 1, '', '', '', '', '', '', '')\n",
      "(1835072,)\n"
     ]
    }
   ],
   "source": [
    "# Viewing sample records from the data set\n",
    "for top in cur.execute('SELECT * FROM NLMS_11 LIMIT 5'):\n",
    "    print(top)\n",
    "    \n",
    "for total in cur.execute('SELECT COUNT(Record) FROM NLMS_11'):\n",
    "    print(total)"
   ]
  },
  {
   "cell_type": "code",
   "execution_count": 4,
   "metadata": {},
   "outputs": [
    {
     "name": "stdout",
     "output_type": "stream",
     "text": [
      "(0,)\n"
     ]
    }
   ],
   "source": [
    "#-------------------------------Sex---------------------------------------------    \n",
    "# Updating Sex to binary value (1=Male, 0=Female) \n",
    "for tbl in cur.execute('UPDATE NLMS_11 SET Sex=0 WHERE Sex=2'):\n",
    "    print(tbl)    \n",
    "# Checking whether update was done - query should return no records  \n",
    "for top in cur.execute('SELECT COUNT(Record) FROM NLMS_11 WHERE Sex=2'):\n",
    "    print(top)"
   ]
  },
  {
   "cell_type": "code",
   "execution_count": 5,
   "metadata": {},
   "outputs": [
    {
     "name": "stdout",
     "output_type": "stream",
     "text": [
      "(0,)\n"
     ]
    }
   ],
   "source": [
    "#-------------------------------Race--------------------------------------------    \n",
    "# Updating Race =0 for records where Race <>1 (NonWhite)\n",
    "for tbl in cur.execute('UPDATE NLMS_11 SET Race=0 WHERE Race <>1'):\n",
    "    print(tbl)\n",
    "# Checking whether update was done - query should return no records  \n",
    "for selected in cur.execute('SELECT COUNT(Record) FROM NLMS_11 WHERE Race IN (2,3,4,5)'):\n",
    "    print(selected)"
   ]
  },
  {
   "cell_type": "code",
   "execution_count": 6,
   "metadata": {},
   "outputs": [
    {
     "name": "stdout",
     "output_type": "stream",
     "text": [
      "(0,)\n",
      "(0,)\n"
     ]
    }
   ],
   "source": [
    "#-------------------------------HispOrigin------------------------------------\n",
    "# Updating HisOr =1\n",
    "for tbl in cur.execute('UPDATE NLMS_11 SET HispOr=1 WHERE HispOr IN (1,2)'):\n",
    "    print(tbl)\n",
    "# Checking whether update was done - query should return no records  \n",
    "for selected in cur.execute('SELECT COUNT(Record) FROM NLMS_11 WHERE HispOr =\"2\"'):\n",
    "    print(selected)\n",
    "# Updating HisOr =0\n",
    "for tbl in cur.execute('UPDATE NLMS_11 SET HispOr=0 WHERE HispOr<>1'):\n",
    "    print(tbl)\n",
    "# Checking whether update was done - query should return no records  \n",
    "for selected in cur.execute('SELECT COUNT(Record) FROM NLMS_11 WHERE HispOr IN (2,3)'):\n",
    "    print(selected)"
   ]
  },
  {
   "cell_type": "code",
   "execution_count": 7,
   "metadata": {},
   "outputs": [
    {
     "data": {
      "text/plain": [
       "<sqlite3.Cursor at 0x1d938834c70>"
      ]
     },
     "execution_count": 7,
     "metadata": {},
     "output_type": "execute_result"
    }
   ],
   "source": [
    "#------------------------------Age Bins-------------------------------\n",
    "# Creating new columns for Age bins\n",
    "cur.execute(\"ALTER TABLE NLMS_11 ADD COLUMN 'Age_Cat21' INTEGER\")\n",
    "cur.execute(\"ALTER TABLE NLMS_11 ADD COLUMN 'Age_Cat35' INTEGER\")\n",
    "cur.execute(\"ALTER TABLE NLMS_11 ADD COLUMN 'Age_Cat45' INTEGER\")\n",
    "cur.execute(\"ALTER TABLE NLMS_11 ADD COLUMN 'Age_Cat55' INTEGER\")\n",
    "cur.execute(\"ALTER TABLE NLMS_11 ADD COLUMN 'Age_Cat65' INTEGER\")\n",
    "cur.execute(\"ALTER TABLE NLMS_11 ADD COLUMN 'Age_Cat75' INTEGER\")\n",
    "cur.execute(\"ALTER TABLE NLMS_11 ADD COLUMN 'Age_Cat85' INTEGER\")\n",
    "cur.execute(\"ALTER TABLE NLMS_11 ADD COLUMN 'Age_Cat86Pl' INTEGER\")"
   ]
  },
  {
   "cell_type": "code",
   "execution_count": 8,
   "metadata": {},
   "outputs": [
    {
     "name": "stdout",
     "output_type": "stream",
     "text": [
      "[(0, 'Record', 'INTEGER', 0, None, 1), (1, 'Age', 'INTEGER', 0, None, 0), (2, 'Race', 'INTEGER', 0, None, 0), (3, 'Sex', 'INTEGER', 0, None, 0), (4, 'MarStat', 'INTEGER', 0, None, 0), (5, 'HispOr', 'INTEGER', 0, None, 0), (6, 'AdjInc', 'INTEGER', 0, None, 0), (7, 'Educ', 'INTEGER', 0, None, 0), (8, 'PlofBirth', 'INTEGER', 0, None, 0), (9, 'Wt', 'INTEGER', 0, None, 0), (10, 'HhId', 'INTEGER', 0, None, 0), (11, 'HhNum', 'INTEGER', 0, None, 0), (12, 'RelTRf', 'INTEGER', 0, None, 0), (13, 'Occ', 'INTEGER', 0, None, 0), (14, 'MajOcc', 'INTEGER', 0, None, 0), (15, 'Ind', 'INTEGER', 0, None, 0), (16, 'MajInd', 'INTEGER', 0, None, 0), (17, 'Esr', 'INTEGER', 0, None, 0), (18, 'Urban', 'INTEGER', 0, None, 0), (19, 'SMSAST', 'INTEGER', 0, None, 0), (20, 'IndDea', 'INTEGER', 0, None, 0), (21, 'Cause113', 'INTEGER', 0, None, 0), (22, 'Follow', 'INTEGER', 0, None, 0), (23, 'DayOD', 'INTEGER', 0, None, 0), (24, 'Hosp', 'INTEGER', 0, None, 0), (25, 'HospD', 'INTEGER', 0, None, 0), (26, 'SSNYN', 'INTEGER', 0, None, 0), (27, 'Vt', 'INTEGER', 0, None, 0), (28, 'HIStat', 'INTEGER', 0, None, 0), (29, 'HIType', 'INTEGER', 0, None, 0), (30, 'PovPct', 'INTEGER', 0, None, 0), (31, 'StateR', 'INTEGER', 0, None, 0), (32, 'RCOW', 'INTEGER', 0, None, 0), (33, 'Tenure', 'INTEGER', 0, None, 0), (34, 'Citizen', 'INTEGER', 0, None, 0), (35, 'Health', 'INTEGER', 0, None, 0), (36, 'IndAlg', 'INTEGER', 0, None, 0), (37, 'Smok100', 'INTEGER', 0, None, 0), (38, 'AgeSmk', 'INTEGER', 0, None, 0), (39, 'SmokStat', 'INTEGER', 0, None, 0), (40, 'SmokHome', 'INTEGER', 0, None, 0), (41, 'CurrTobUse', 'INTEGER', 0, None, 0), (42, 'EverUse', 'INTEGER', 0, None, 0), (43, 'Age_Cat21', 'INTEGER', 0, None, 0), (44, 'Age_Cat35', 'INTEGER', 0, None, 0), (45, 'Age_Cat45', 'INTEGER', 0, None, 0), (46, 'Age_Cat55', 'INTEGER', 0, None, 0), (47, 'Age_Cat65', 'INTEGER', 0, None, 0), (48, 'Age_Cat75', 'INTEGER', 0, None, 0), (49, 'Age_Cat85', 'INTEGER', 0, None, 0), (50, 'Age_Cat86Pl', 'INTEGER', 0, None, 0)]\n"
     ]
    }
   ],
   "source": [
    "# Verifying if column was added\n",
    "cur.execute(\"PRAGMA table_info(NLMS_11)\")\n",
    "print(cur.fetchall())"
   ]
  },
  {
   "cell_type": "code",
   "execution_count": 9,
   "metadata": {},
   "outputs": [
    {
     "name": "stdout",
     "output_type": "stream",
     "text": [
      "(567167,)\n",
      "(434803,)\n",
      "(259080,)\n",
      "(200867,)\n",
      "(169671,)\n",
      "(127810,)\n",
      "(62348,)\n",
      "(13326,)\n"
     ]
    }
   ],
   "source": [
    "# Updating Age_Cat21\n",
    "for tbl in cur.execute('UPDATE NLMS_11 SET Age_Cat21 = CASE WHEN Age<22 THEN 1 ELSE 0 END'):\n",
    "    print(tbl)\n",
    "# Checking whether update was done\n",
    "for selected in cur.execute('SELECT COUNT(Record) FROM NLMS_11 WHERE Age_Cat21=1'):\n",
    "    print(selected)\n",
    "\n",
    "# Updating Age_Cat35\n",
    "for tbl in cur.execute('UPDATE NLMS_11 SET Age_Cat35 = CASE WHEN Age BETWEEN 22 AND 35 THEN 1 ELSE 0 END'):\n",
    "    print(tbl)\n",
    "# Checking whether update was done\n",
    "for selected in cur.execute('SELECT COUNT(Record) FROM NLMS_11 WHERE Age_Cat35=1'):\n",
    "    print(selected)\n",
    "    \n",
    "# Updating Age_Cat45\n",
    "for tbl in cur.execute('UPDATE NLMS_11 SET Age_Cat45 = CASE WHEN Age BETWEEN 36 AND 45 THEN 1 ELSE 0 END'):\n",
    "    print(tbl)\n",
    "# Checking whether update was done\n",
    "for selected in cur.execute('SELECT COUNT(Record) FROM NLMS_11 WHERE Age_Cat45=1'):\n",
    "    print(selected)\n",
    "\n",
    "# Updating Age_Cat55\n",
    "for tbl in cur.execute('UPDATE NLMS_11 SET Age_Cat55 = CASE WHEN Age BETWEEN 46 AND 55 THEN 1 ELSE 0 END'):\n",
    "    print(tbl)\n",
    "# Checking whether update was done\n",
    "for selected in cur.execute('SELECT COUNT(Record) FROM NLMS_11 WHERE Age_Cat55=1'):\n",
    "    print(selected)\n",
    "    \n",
    "# Updating Age_Cat65\n",
    "for tbl in cur.execute('UPDATE NLMS_11 SET Age_Cat65 = CASE WHEN Age BETWEEN 56 AND 65 THEN 1 ELSE 0 END'):\n",
    "    print(tbl)\n",
    "# Checking whether update was done\n",
    "for selected in cur.execute('SELECT COUNT(Record) FROM NLMS_11 WHERE Age_Cat65=1'):\n",
    "    print(selected)\n",
    "    \n",
    "# Updating Age_Cat75\n",
    "for tbl in cur.execute('UPDATE NLMS_11 SET Age_Cat75 = CASE WHEN Age BETWEEN 66 AND 75 THEN 1 ELSE 0 END'):\n",
    "    print(tbl)\n",
    "# Checking whether update was done\n",
    "for selected in cur.execute('SELECT COUNT(Record) FROM NLMS_11 WHERE Age_Cat75=1'):\n",
    "    print(selected)\n",
    "    \n",
    "# Updating Age_Cat85\n",
    "for tbl in cur.execute('UPDATE NLMS_11 SET Age_Cat85 = CASE WHEN Age BETWEEN 76 AND 85 THEN 1 ELSE 0 END'):\n",
    "    print(tbl)\n",
    "# Checking whether update was done\n",
    "for selected in cur.execute('SELECT COUNT(Record) FROM NLMS_11 WHERE Age_Cat85=1'):\n",
    "    print(selected)\n",
    "    \n",
    "# Updating Age_Cat86Pl\n",
    "for tbl in cur.execute('UPDATE NLMS_11 SET Age_Cat86Pl = CASE WHEN Age>85 THEN 1 ELSE 0 END'):\n",
    "    print(tbl)\n",
    "# Checking whether update was done\n",
    "for selected in cur.execute('SELECT COUNT(Record) FROM NLMS_11 WHERE Age_Cat86Pl=1'):\n",
    "    print(selected)"
   ]
  },
  {
   "cell_type": "code",
   "execution_count": 10,
   "metadata": {},
   "outputs": [
    {
     "name": "stdout",
     "output_type": "stream",
     "text": [
      "[(0, 'Record', 'INTEGER', 0, None, 1), (1, 'Age', 'INTEGER', 0, None, 0), (2, 'Race', 'INTEGER', 0, None, 0), (3, 'Sex', 'INTEGER', 0, None, 0), (4, 'MarStat', 'INTEGER', 0, None, 0), (5, 'HispOr', 'INTEGER', 0, None, 0), (6, 'AdjInc', 'INTEGER', 0, None, 0), (7, 'Educ', 'INTEGER', 0, None, 0), (8, 'PlofBirth', 'INTEGER', 0, None, 0), (9, 'Wt', 'INTEGER', 0, None, 0), (10, 'HhId', 'INTEGER', 0, None, 0), (11, 'HhNum', 'INTEGER', 0, None, 0), (12, 'RelTRf', 'INTEGER', 0, None, 0), (13, 'Occ', 'INTEGER', 0, None, 0), (14, 'MajOcc', 'INTEGER', 0, None, 0), (15, 'Ind', 'INTEGER', 0, None, 0), (16, 'MajInd', 'INTEGER', 0, None, 0), (17, 'Esr', 'INTEGER', 0, None, 0), (18, 'Urban', 'INTEGER', 0, None, 0), (19, 'SMSAST', 'INTEGER', 0, None, 0), (20, 'IndDea', 'INTEGER', 0, None, 0), (21, 'Cause113', 'INTEGER', 0, None, 0), (22, 'Follow', 'INTEGER', 0, None, 0), (23, 'DayOD', 'INTEGER', 0, None, 0), (24, 'Hosp', 'INTEGER', 0, None, 0), (25, 'HospD', 'INTEGER', 0, None, 0), (26, 'SSNYN', 'INTEGER', 0, None, 0), (27, 'Vt', 'INTEGER', 0, None, 0), (28, 'HIStat', 'INTEGER', 0, None, 0), (29, 'HIType', 'INTEGER', 0, None, 0), (30, 'PovPct', 'INTEGER', 0, None, 0), (31, 'StateR', 'INTEGER', 0, None, 0), (32, 'RCOW', 'INTEGER', 0, None, 0), (33, 'Tenure', 'INTEGER', 0, None, 0), (34, 'Citizen', 'INTEGER', 0, None, 0), (35, 'Health', 'INTEGER', 0, None, 0), (36, 'IndAlg', 'INTEGER', 0, None, 0), (37, 'Smok100', 'INTEGER', 0, None, 0), (38, 'AgeSmk', 'INTEGER', 0, None, 0), (39, 'SmokStat', 'INTEGER', 0, None, 0), (40, 'SmokHome', 'INTEGER', 0, None, 0), (41, 'CurrTobUse', 'INTEGER', 0, None, 0), (42, 'EverUse', 'INTEGER', 0, None, 0), (43, 'Age_Cat21', 'INTEGER', 0, None, 0), (44, 'Age_Cat35', 'INTEGER', 0, None, 0), (45, 'Age_Cat45', 'INTEGER', 0, None, 0), (46, 'Age_Cat55', 'INTEGER', 0, None, 0), (47, 'Age_Cat65', 'INTEGER', 0, None, 0), (48, 'Age_Cat75', 'INTEGER', 0, None, 0), (49, 'Age_Cat85', 'INTEGER', 0, None, 0), (50, 'Age_Cat86Pl', 'INTEGER', 0, None, 0), (51, 'Educ_Elem', 'INTEGER', 0, None, 0), (52, 'Educ_HS', 'INTEGER', 0, None, 0), (53, 'Educ_HSCompl', 'INTEGER', 0, None, 0), (54, 'Educ_Collg', 'INTEGER', 0, None, 0), (55, 'Educ_CollgCompl', 'INTEGER', 0, None, 0)]\n"
     ]
    }
   ],
   "source": [
    "#-------------------------------Education------------------------------------\n",
    "# Creating new columns for categorical Education variables\n",
    "cur.execute(\"ALTER TABLE NLMS_11 ADD COLUMN 'Educ_Elem' INTEGER\")\n",
    "cur.execute(\"ALTER TABLE NLMS_11 ADD COLUMN 'Educ_HS' INTEGER\")\n",
    "cur.execute(\"ALTER TABLE NLMS_11 ADD COLUMN 'Educ_HSCompl' INTEGER\")\n",
    "cur.execute(\"ALTER TABLE NLMS_11 ADD COLUMN 'Educ_Collg' INTEGER\")\n",
    "cur.execute(\"ALTER TABLE NLMS_11 ADD COLUMN 'Educ_CollgCompl' INTEGER\")\n",
    "# Verifying if column was added\n",
    "cur.execute(\"PRAGMA table_info(NLMS_11)\")\n",
    "print(cur.fetchall())"
   ]
  },
  {
   "cell_type": "code",
   "execution_count": 12,
   "metadata": {},
   "outputs": [
    {
     "name": "stdout",
     "output_type": "stream",
     "text": [
      "(188852,)\n",
      "(249392,)\n",
      "(517831,)\n",
      "(281261,)\n",
      "(597736,)\n"
     ]
    }
   ],
   "source": [
    "# Populating new Education columns w/ categorical variables\n",
    "# Elementary\n",
    "for tbl in cur.execute('UPDATE NLMS_11 SET Educ_Elem = CASE WHEN Educ<05 THEN 1 ELSE 0 END'):\n",
    "    print(tbl)\n",
    "# Checking whether update was done\n",
    "for selected in cur.execute('SELECT COUNT(Record) FROM NLMS_11 WHERE Educ_Elem=1'):\n",
    "    print(selected)\n",
    "\n",
    "# Some High School\n",
    "for tbl in cur.execute('UPDATE NLMS_11 SET Educ_HS = CASE WHEN Educ IN (5,6,7) THEN 1 ELSE 0 END'):\n",
    "    print(tbl)\n",
    "# Checking whether update was done\n",
    "for selected in cur.execute('SELECT COUNT(Record) FROM NLMS_11 WHERE Educ_HS=1'):\n",
    "    print(selected)\n",
    "\n",
    "# Completed High School\n",
    "for tbl in cur.execute('UPDATE NLMS_11 SET Educ_HSCompl = CASE WHEN Educ=8 THEN 1 ELSE 0 END'):\n",
    "    print(tbl)\n",
    "# Checking whether update was done\n",
    "for selected in cur.execute('SELECT COUNT(Record) FROM NLMS_11 WHERE Educ_HSCompl=1'):\n",
    "    print(selected)\n",
    "    \n",
    "# Some College\n",
    "for tbl in cur.execute('UPDATE NLMS_11 SET Educ_Collg = CASE WHEN Educ IN (9,10,11) THEN 1 ELSE 0 END'):\n",
    "    print(tbl)\n",
    "# Checking whether update was done\n",
    "for selected in cur.execute('SELECT COUNT(Record) FROM NLMS_11 WHERE Educ_Collg=1'):\n",
    "    print(selected)\n",
    "    \n",
    "# Completed College\n",
    "for tbl in cur.execute('UPDATE NLMS_11 SET Educ_CollgCompl = CASE WHEN Educ>11 THEN 1 ELSE 0 END'):\n",
    "    print(tbl)\n",
    "# Checking whether update was done\n",
    "for selected in cur.execute('SELECT COUNT(Record) FROM NLMS_11 WHERE Educ_CollgCompl=1'):\n",
    "    print(selected)"
   ]
  },
  {
   "cell_type": "code",
   "execution_count": 13,
   "metadata": {},
   "outputs": [
    {
     "name": "stdout",
     "output_type": "stream",
     "text": [
      "(0,)\n"
     ]
    }
   ],
   "source": [
    "#------------------------------Urban--------------------------------------\n",
    "# Updating Urban to binary value (1=Urban, 0=Rural) \n",
    "for tbl in cur.execute('UPDATE NLMS_11 SET Urban=0 WHERE Urban=2'):\n",
    "    print(tbl)    \n",
    "# Checking whether update was done - query should return no records  \n",
    "for top in cur.execute('SELECT COUNT(Record) FROM NLMS_11 WHERE Urban=2'):\n",
    "    print(top)"
   ]
  },
  {
   "cell_type": "code",
   "execution_count": 14,
   "metadata": {},
   "outputs": [
    {
     "name": "stdout",
     "output_type": "stream",
     "text": [
      "(0,)\n"
     ]
    }
   ],
   "source": [
    "#------------------------------Place of Birth-----------------------------------  \n",
    "# Updating PlofBirth=1 (US Born), 0 (NonUS Born)\n",
    "for tbl in cur.execute('UPDATE NLMS_11 SET PlofBirth = CASE WHEN PlofBirth>111 THEN 1 ELSE 0 END'):\n",
    "    print(tbl)\n",
    "# Checking whether update was done - query should return no records  \n",
    "for selected in cur.execute('SELECT COUNT(Record) FROM NLMS_11 WHERE PlofBirth>111'):\n",
    "    print(selected)"
   ]
  },
  {
   "cell_type": "code",
   "execution_count": 15,
   "metadata": {},
   "outputs": [
    {
     "name": "stdout",
     "output_type": "stream",
     "text": [
      "(0,)\n"
     ]
    }
   ],
   "source": [
    "#------------------------------Marital Status-----------------------------------  \n",
    "# Updating Marital Status =0 for records where MarStat >1\n",
    "for tbl in cur.execute('UPDATE NLMS_11 SET MarStat=0 WHERE MarStat >1'):\n",
    "    print(tbl)\n",
    "# Checking whether update was done - query should return no records  \n",
    "for selected in cur.execute('SELECT COUNT(Record) FROM NLMS_11 WHERE MarStat>1'):\n",
    "    print(selected)"
   ]
  },
  {
   "cell_type": "code",
   "execution_count": 18,
   "metadata": {},
   "outputs": [
    {
     "name": "stdout",
     "output_type": "stream",
     "text": [
      "(0,)\n"
     ]
    }
   ],
   "source": [
    "#------------------------------Tenure-------------------------------------------\n",
    "# Updating Tenure =0\n",
    "for tbl in cur.execute('UPDATE NLMS_11 SET Tenure=0 WHERE Tenure<>1'):\n",
    "    print(tbl)\n",
    "# Checking whether update was done - query should return no records  \n",
    "for selected in cur.execute('SELECT COUNT(Record) FROM NLMS_11 WHERE Tenure IN (2,3)'):\n",
    "    print(selected)"
   ]
  },
  {
   "cell_type": "code",
   "execution_count": 19,
   "metadata": {},
   "outputs": [
    {
     "name": "stdout",
     "output_type": "stream",
     "text": [
      "(0,)\n"
     ]
    }
   ],
   "source": [
    "#------------------------------Employment---------------------------------------\n",
    "# Updating Esr =0 for records where Esr <>1\n",
    "for tbl in cur.execute('UPDATE NLMS_11 SET Esr=0 WHERE Esr<>1'):\n",
    "    print(tbl)\n",
    "# Checking whether update was done - query should return no records  \n",
    "for selected in cur.execute('SELECT COUNT(Record) FROM NLMS_11 WHERE Esr IN (2,3,4,5)'):\n",
    "    print(selected)"
   ]
  },
  {
   "cell_type": "code",
   "execution_count": 20,
   "metadata": {},
   "outputs": [
    {
     "name": "stdout",
     "output_type": "stream",
     "text": [
      "[(0, 'Record', 'INTEGER', 0, None, 1), (1, 'Age', 'INTEGER', 0, None, 0), (2, 'Race', 'INTEGER', 0, None, 0), (3, 'Sex', 'INTEGER', 0, None, 0), (4, 'MarStat', 'INTEGER', 0, None, 0), (5, 'HispOr', 'INTEGER', 0, None, 0), (6, 'AdjInc', 'INTEGER', 0, None, 0), (7, 'Educ', 'INTEGER', 0, None, 0), (8, 'PlofBirth', 'INTEGER', 0, None, 0), (9, 'Wt', 'INTEGER', 0, None, 0), (10, 'HhId', 'INTEGER', 0, None, 0), (11, 'HhNum', 'INTEGER', 0, None, 0), (12, 'RelTRf', 'INTEGER', 0, None, 0), (13, 'Occ', 'INTEGER', 0, None, 0), (14, 'MajOcc', 'INTEGER', 0, None, 0), (15, 'Ind', 'INTEGER', 0, None, 0), (16, 'MajInd', 'INTEGER', 0, None, 0), (17, 'Esr', 'INTEGER', 0, None, 0), (18, 'Urban', 'INTEGER', 0, None, 0), (19, 'SMSAST', 'INTEGER', 0, None, 0), (20, 'IndDea', 'INTEGER', 0, None, 0), (21, 'Cause113', 'INTEGER', 0, None, 0), (22, 'Follow', 'INTEGER', 0, None, 0), (23, 'DayOD', 'INTEGER', 0, None, 0), (24, 'Hosp', 'INTEGER', 0, None, 0), (25, 'HospD', 'INTEGER', 0, None, 0), (26, 'SSNYN', 'INTEGER', 0, None, 0), (27, 'Vt', 'INTEGER', 0, None, 0), (28, 'HIStat', 'INTEGER', 0, None, 0), (29, 'HIType', 'INTEGER', 0, None, 0), (30, 'PovPct', 'INTEGER', 0, None, 0), (31, 'StateR', 'INTEGER', 0, None, 0), (32, 'RCOW', 'INTEGER', 0, None, 0), (33, 'Tenure', 'INTEGER', 0, None, 0), (34, 'Citizen', 'INTEGER', 0, None, 0), (35, 'Health', 'INTEGER', 0, None, 0), (36, 'IndAlg', 'INTEGER', 0, None, 0), (37, 'Smok100', 'INTEGER', 0, None, 0), (38, 'AgeSmk', 'INTEGER', 0, None, 0), (39, 'SmokStat', 'INTEGER', 0, None, 0), (40, 'SmokHome', 'INTEGER', 0, None, 0), (41, 'CurrTobUse', 'INTEGER', 0, None, 0), (42, 'EverUse', 'INTEGER', 0, None, 0), (43, 'Age_Cat21', 'INTEGER', 0, None, 0), (44, 'Age_Cat35', 'INTEGER', 0, None, 0), (45, 'Age_Cat45', 'INTEGER', 0, None, 0), (46, 'Age_Cat55', 'INTEGER', 0, None, 0), (47, 'Age_Cat65', 'INTEGER', 0, None, 0), (48, 'Age_Cat75', 'INTEGER', 0, None, 0), (49, 'Age_Cat85', 'INTEGER', 0, None, 0), (50, 'Age_Cat86Pl', 'INTEGER', 0, None, 0), (51, 'Educ_Elem', 'INTEGER', 0, None, 0), (52, 'Educ_HS', 'INTEGER', 0, None, 0), (53, 'Educ_HSCompl', 'INTEGER', 0, None, 0), (54, 'Educ_Collg', 'INTEGER', 0, None, 0), (55, 'Educ_CollgCompl', 'INTEGER', 0, None, 0), (56, 'InPoverty', 'INTEGER', 0, None, 0), (57, 'Poverty_Gr2', 'INTEGER', 0, None, 0), (58, 'Poverty_Gr3', 'INTEGER', 0, None, 0), (59, 'Poverty_Gr4', 'INTEGER', 0, None, 0), (60, 'NotInPoverty', 'INTEGER', 0, None, 0)]\n"
     ]
    }
   ],
   "source": [
    "#------------------------------Poverty Level------------------------------------\n",
    "# Creating new columns for categorical Poverty variables\n",
    "cur.execute(\"ALTER TABLE NLMS_11 ADD COLUMN 'InPoverty' INTEGER\")\n",
    "cur.execute(\"ALTER TABLE NLMS_11 ADD COLUMN 'Poverty_Gr2' INTEGER\")\n",
    "cur.execute(\"ALTER TABLE NLMS_11 ADD COLUMN 'Poverty_Gr3' INTEGER\")\n",
    "cur.execute(\"ALTER TABLE NLMS_11 ADD COLUMN 'Poverty_Gr4' INTEGER\")\n",
    "cur.execute(\"ALTER TABLE NLMS_11 ADD COLUMN 'NotInPoverty' INTEGER\")\n",
    "# Verifying if column was added\n",
    "cur.execute(\"PRAGMA table_info(NLMS_11)\")\n",
    "print(cur.fetchall())"
   ]
  },
  {
   "cell_type": "code",
   "execution_count": 21,
   "metadata": {},
   "outputs": [
    {
     "name": "stdout",
     "output_type": "stream",
     "text": [
      "(268114,)\n",
      "(382641,)\n",
      "(387713,)\n",
      "(265996,)\n",
      "(530608,)\n"
     ]
    }
   ],
   "source": [
    "# Updating InPoverty\n",
    "for tbl in cur.execute('UPDATE NLMS_11 SET InPoverty = CASE WHEN PovPct<4 THEN 1 ELSE 0 END'):\n",
    "    print(tbl)\n",
    "# Checking whether update was done - query should return no records  \n",
    "for selected in cur.execute('SELECT COUNT(Record) FROM NLMS_11 WHERE InPoverty=1'):\n",
    "    print(selected)\n",
    "\n",
    "# Updating Poverty_Gr2\n",
    "for tbl in cur.execute('UPDATE NLMS_11 SET Poverty_Gr2 = CASE WHEN PovPct BETWEEN 4 AND 7 THEN 1 ELSE 0 END'):\n",
    "    print(tbl)\n",
    "# Checking whether update was done - query should return no records  \n",
    "for selected in cur.execute('SELECT COUNT(Record) FROM NLMS_11 WHERE Poverty_Gr2=1'):\n",
    "    print(selected)\n",
    "\n",
    "# Updating Poverty_Gr3\n",
    "for tbl in cur.execute('UPDATE NLMS_11 SET Poverty_Gr3 = CASE WHEN PovPct BETWEEN 8 AND 11 THEN 1 ELSE 0 END'):\n",
    "    print(tbl)\n",
    "# Checking whether update was done - query should return no records  \n",
    "for selected in cur.execute('SELECT COUNT(Record) FROM NLMS_11 WHERE Poverty_Gr3=1'):\n",
    "    print(selected)\n",
    "    \n",
    "# Updating Poverty_Gr4\n",
    "for tbl in cur.execute('UPDATE NLMS_11 SET Poverty_Gr4 = CASE WHEN PovPct BETWEEN 12 AND 15 THEN 1 ELSE 0 END'):\n",
    "    print(tbl)\n",
    "# Checking whether update was done - query should return no records  \n",
    "for selected in cur.execute('SELECT COUNT(Record) FROM NLMS_11 WHERE Poverty_Gr4=1'):\n",
    "    print(selected)\n",
    "    \n",
    "# Updating NotInPoverty\n",
    "for tbl in cur.execute('UPDATE NLMS_11 SET NotInPoverty = CASE WHEN PovPct>15 THEN 1 ELSE 0 END'):\n",
    "    print(tbl)\n",
    "# Checking whether update was done - query should return no records  \n",
    "for selected in cur.execute('SELECT COUNT(Record) FROM NLMS_11 WHERE NotInPoverty=1'):\n",
    "    print(selected)"
   ]
  },
  {
   "cell_type": "code",
   "execution_count": 22,
   "metadata": {
    "scrolled": false
   },
   "outputs": [
    {
     "name": "stdout",
     "output_type": "stream",
     "text": [
      "[(0, 'Record', 'INTEGER', 0, None, 1), (1, 'Age', 'INTEGER', 0, None, 0), (2, 'Race', 'INTEGER', 0, None, 0), (3, 'Sex', 'INTEGER', 0, None, 0), (4, 'MarStat', 'INTEGER', 0, None, 0), (5, 'HispOr', 'INTEGER', 0, None, 0), (6, 'AdjInc', 'INTEGER', 0, None, 0), (7, 'Educ', 'INTEGER', 0, None, 0), (8, 'PlofBirth', 'INTEGER', 0, None, 0), (9, 'Wt', 'INTEGER', 0, None, 0), (10, 'HhId', 'INTEGER', 0, None, 0), (11, 'HhNum', 'INTEGER', 0, None, 0), (12, 'RelTRf', 'INTEGER', 0, None, 0), (13, 'Occ', 'INTEGER', 0, None, 0), (14, 'MajOcc', 'INTEGER', 0, None, 0), (15, 'Ind', 'INTEGER', 0, None, 0), (16, 'MajInd', 'INTEGER', 0, None, 0), (17, 'Esr', 'INTEGER', 0, None, 0), (18, 'Urban', 'INTEGER', 0, None, 0), (19, 'SMSAST', 'INTEGER', 0, None, 0), (20, 'IndDea', 'INTEGER', 0, None, 0), (21, 'Cause113', 'INTEGER', 0, None, 0), (22, 'Follow', 'INTEGER', 0, None, 0), (23, 'DayOD', 'INTEGER', 0, None, 0), (24, 'Hosp', 'INTEGER', 0, None, 0), (25, 'HospD', 'INTEGER', 0, None, 0), (26, 'SSNYN', 'INTEGER', 0, None, 0), (27, 'Vt', 'INTEGER', 0, None, 0), (28, 'HIStat', 'INTEGER', 0, None, 0), (29, 'HIType', 'INTEGER', 0, None, 0), (30, 'PovPct', 'INTEGER', 0, None, 0), (31, 'StateR', 'INTEGER', 0, None, 0), (32, 'RCOW', 'INTEGER', 0, None, 0), (33, 'Tenure', 'INTEGER', 0, None, 0), (34, 'Citizen', 'INTEGER', 0, None, 0), (35, 'Health', 'INTEGER', 0, None, 0), (36, 'IndAlg', 'INTEGER', 0, None, 0), (37, 'Smok100', 'INTEGER', 0, None, 0), (38, 'AgeSmk', 'INTEGER', 0, None, 0), (39, 'SmokStat', 'INTEGER', 0, None, 0), (40, 'SmokHome', 'INTEGER', 0, None, 0), (41, 'CurrTobUse', 'INTEGER', 0, None, 0), (42, 'EverUse', 'INTEGER', 0, None, 0), (43, 'Age_Cat21', 'INTEGER', 0, None, 0), (44, 'Age_Cat35', 'INTEGER', 0, None, 0), (45, 'Age_Cat45', 'INTEGER', 0, None, 0), (46, 'Age_Cat55', 'INTEGER', 0, None, 0), (47, 'Age_Cat65', 'INTEGER', 0, None, 0), (48, 'Age_Cat75', 'INTEGER', 0, None, 0), (49, 'Age_Cat85', 'INTEGER', 0, None, 0), (50, 'Age_Cat86Pl', 'INTEGER', 0, None, 0), (51, 'Educ_Elem', 'INTEGER', 0, None, 0), (52, 'Educ_HS', 'INTEGER', 0, None, 0), (53, 'Educ_HSCompl', 'INTEGER', 0, None, 0), (54, 'Educ_Collg', 'INTEGER', 0, None, 0), (55, 'Educ_CollgCompl', 'INTEGER', 0, None, 0), (56, 'InPoverty', 'INTEGER', 0, None, 0), (57, 'Poverty_Gr2', 'INTEGER', 0, None, 0), (58, 'Poverty_Gr3', 'INTEGER', 0, None, 0), (59, 'Poverty_Gr4', 'INTEGER', 0, None, 0), (60, 'NotInPoverty', 'INTEGER', 0, None, 0), (61, 'Res_NewEng', 'INTEGER', 0, None, 0), (62, 'Res_MidAtl', 'INTEGER', 0, None, 0), (63, 'Res_ENCentr', 'INTEGER', 0, None, 0), (64, 'Res_WNCentr', 'INTEGER', 0, None, 0), (65, 'Res_SAtl', 'INTEGER', 0, None, 0), (66, 'Res_ESCentr', 'INTEGER', 0, None, 0), (67, 'Res_WSCentr', 'INTEGER', 0, None, 0), (68, 'Res_Mountain', 'INTEGER', 0, None, 0), (69, 'Res_Pacific', 'INTEGER', 0, None, 0)]\n"
     ]
    }
   ],
   "source": [
    "#------------------------------Place of Residence-------------------------------\n",
    "# Creating new columns for categorical POR variables\n",
    "cur.execute(\"ALTER TABLE NLMS_11 ADD COLUMN 'Res_NewEng' INTEGER\")\n",
    "cur.execute(\"ALTER TABLE NLMS_11 ADD COLUMN 'Res_MidAtl' INTEGER\")\n",
    "cur.execute(\"ALTER TABLE NLMS_11 ADD COLUMN 'Res_ENCentr' INTEGER\")\n",
    "cur.execute(\"ALTER TABLE NLMS_11 ADD COLUMN 'Res_WNCentr' INTEGER\")\n",
    "cur.execute(\"ALTER TABLE NLMS_11 ADD COLUMN 'Res_SAtl' INTEGER\")\n",
    "cur.execute(\"ALTER TABLE NLMS_11 ADD COLUMN 'Res_ESCentr' INTEGER\")\n",
    "cur.execute(\"ALTER TABLE NLMS_11 ADD COLUMN 'Res_WSCentr' INTEGER\")\n",
    "cur.execute(\"ALTER TABLE NLMS_11 ADD COLUMN 'Res_Mountain' INTEGER\")\n",
    "cur.execute(\"ALTER TABLE NLMS_11 ADD COLUMN 'Res_Pacific' INTEGER\")\n",
    "# Verifying if column was added\n",
    "cur.execute(\"PRAGMA table_info(NLMS_11)\")\n",
    "print(cur.fetchall())"
   ]
  },
  {
   "cell_type": "code",
   "execution_count": 23,
   "metadata": {},
   "outputs": [
    {
     "name": "stdout",
     "output_type": "stream",
     "text": [
      "(142205,)\n",
      "(240890,)\n",
      "(268270,)\n",
      "(186320,)\n",
      "(283903,)\n",
      "(97508,)\n",
      "(169330,)\n",
      "(201328,)\n",
      "(245318,)\n"
     ]
    }
   ],
   "source": [
    "# Updating Res_NewEng\n",
    "for tbl in cur.execute('UPDATE NLMS_11 SET Res_NewEng = CASE WHEN StateR<17 THEN 1 ELSE 0 END'):\n",
    "    print(tbl)\n",
    "# Checking whether update was done\n",
    "for selected in cur.execute('SELECT COUNT(Record) FROM NLMS_11 WHERE Res_NewEng=1'):\n",
    "    print(selected)\n",
    "    \n",
    "# Updating Res_MidAtl\n",
    "for tbl in cur.execute('UPDATE NLMS_11 SET Res_MidAtl = CASE WHEN StateR BETWEEN 21 AND 23 THEN 1 ELSE 0 END'):\n",
    "    print(tbl)\n",
    "# Checking whether update was done\n",
    "for selected in cur.execute('SELECT COUNT(Record) FROM NLMS_11 WHERE Res_MidAtl=1'):\n",
    "    print(selected)\n",
    "    \n",
    "# Updating Res_ENCentr\n",
    "for tbl in cur.execute('UPDATE NLMS_11 SET Res_ENCentr = CASE WHEN StateR BETWEEN 31 AND 35 THEN 1 ELSE 0 END'):\n",
    "    print(tbl)\n",
    "# Checking whether update was done\n",
    "for selected in cur.execute('SELECT COUNT(Record) FROM NLMS_11 WHERE Res_ENCentr=1'):\n",
    "    print(selected)\n",
    "    \n",
    "# Updating Res_WNCentr\n",
    "for tbl in cur.execute('UPDATE NLMS_11 SET Res_WNCentr = CASE WHEN StateR BETWEEN 41 AND 47 THEN 1 ELSE 0 END'):\n",
    "    print(tbl)\n",
    "# Checking whether update was done\n",
    "for selected in cur.execute('SELECT COUNT(Record) FROM NLMS_11 WHERE Res_WNCentr=1'):\n",
    "    print(selected)\n",
    "    \n",
    "# Updating Res_SAtl\n",
    "for tbl in cur.execute('UPDATE NLMS_11 SET Res_SAtl = CASE WHEN StateR BETWEEN 51 AND 59 THEN 1 ELSE 0 END'):\n",
    "    print(tbl)\n",
    "# Checking whether update was done\n",
    "for selected in cur.execute('SELECT COUNT(Record) FROM NLMS_11 WHERE Res_SAtl=1'):\n",
    "    print(selected)\n",
    "    \n",
    "# Updating Res_ESCentr\n",
    "for tbl in cur.execute('UPDATE NLMS_11 SET Res_ESCentr = CASE WHEN StateR BETWEEN 61 AND 64 THEN 1 ELSE 0 END'):\n",
    "    print(tbl)\n",
    "# Checking whether update was done\n",
    "for selected in cur.execute('SELECT COUNT(Record) FROM NLMS_11 WHERE Res_ESCentr=1'):\n",
    "    print(selected)\n",
    "    \n",
    "# Updating Res_WSCentr\n",
    "for tbl in cur.execute('UPDATE NLMS_11 SET Res_WSCentr = CASE WHEN StateR BETWEEN 71 AND 74 THEN 1 ELSE 0 END'):\n",
    "    print(tbl)\n",
    "# Checking whether update was done\n",
    "for selected in cur.execute('SELECT COUNT(Record) FROM NLMS_11 WHERE Res_WSCentr=1'):\n",
    "    print(selected)\n",
    "\n",
    "# Updating Res_Mountain\n",
    "for tbl in cur.execute('UPDATE NLMS_11 SET Res_Mountain = CASE WHEN StateR BETWEEN 81 AND 88 THEN 1 ELSE 0 END'):\n",
    "    print(tbl)\n",
    "# Checking whether update was done\n",
    "for selected in cur.execute('SELECT COUNT(Record) FROM NLMS_11 WHERE Res_Mountain=1'):\n",
    "    print(selected)\n",
    "    \n",
    "# Updating Res_Pacific\n",
    "for tbl in cur.execute('UPDATE NLMS_11 SET Res_Pacific = CASE WHEN StateR BETWEEN 91 AND 95 THEN 1 ELSE 0 END'):\n",
    "    print(tbl)\n",
    "# Checking whether update was done\n",
    "for selected in cur.execute('SELECT COUNT(Record) FROM NLMS_11 WHERE Res_Pacific=1'):\n",
    "    print(selected)"
   ]
  },
  {
   "cell_type": "code",
   "execution_count": 24,
   "metadata": {},
   "outputs": [
    {
     "name": "stdout",
     "output_type": "stream",
     "text": [
      "(1103908,)\n"
     ]
    }
   ],
   "source": [
    "# Checking total patient count after creating categorical variables\n",
    "for selected in cur.execute('SELECT COUNT(Record) FROM NLMS_11 WHERE (Age <>\"\" AND Age_Cat21=0 AND Race <>\"\" AND Sex <>\"\" AND MarStat <>\"\" AND HispOr <>\"\" AND Educ <>\"\" AND PlofBirth <>\"\" AND Esr <>\"\" AND Urban <>\"\" AND SSNYN <>\"\" AND Vt <>\"\" AND PovPct <>\"\" AND StateR <>\"\" AND Tenure <>\"\" AND HhNum <>\"\" AND Follow <>\"\") AND IndDea=0'):\n",
    "    print(selected)"
   ]
  },
  {
   "cell_type": "code",
   "execution_count": 25,
   "metadata": {},
   "outputs": [
    {
     "data": {
      "text/plain": [
       "<sqlite3.Cursor at 0x1d938834c70>"
      ]
     },
     "execution_count": 25,
     "metadata": {},
     "output_type": "execute_result"
    }
   ],
   "source": [
    "# Creating new table with wrangled data only\n",
    "cur.execute('''CREATE TABLE IF NOT EXISTS NLMS_11_New\n",
    "            (Record INTEGER PRIMARY KEY, IndDea INTEGER NOT NULL, Age INTEGER NOT NULL, Age_Cat21 INTEGER NOT NULL, Age_Cat35 INTEGER NOT NULL, Age_Cat45 INTEGER NOT NULL, Age_Cat55 INTEGER NOT NULL, Age_Cat65 INTEGER NOT NULL, Age_Cat75 INTEGER NOT NULL, Age_Cat85 INTEGER NOT NULL, Age_Cat86Pl INTEGER NOT NULL, Race INTEGER NOT NULL, Sex INTEGER NOT NULL, MarStat INTEGER NOT NULL, HispOr INTEGER NOT NULL, Educ_Elem INTEGER NOT NULL, Educ_HS INTEGER NOT NULL, Educ_HSCompl INTEGER NOT NULL, Educ_Collg INTEGER NOT NULL, Educ_CollgCompl INTEGER NOT NULL, PlofBirth INTEGER NOT NULL, Urban INTEGER NOT NULL, SSNYN INTEGER NOT NULL, Vt INTEGER NOT NULL, Tenure INTEGER NOT NULL, InPoverty INTEGER NOT NULL, Poverty_Gr2 INTEGER NOT NULL, Poverty_Gr3 INTEGER NOT NULL, Poverty_Gr4 INTEGER NOT NULL, NotInPoverty INTEGER NOT NULL, Esr INTEGER NOT NULL, Res_NewEng INTEGER NOT NULL, Res_MidAtl INTEGER NOT NULL, Res_ENCentr INTEGER NOT NULL, Res_WNCentr INTEGER NOT NULL, Res_SAtl INTEGER NOT NULL, Res_ESCentr INTEGER NOT NULL, Res_WSCentr INTEGER NOT NULL, Res_Mountain INTEGER NOT NULL, Res_Pacific INTEGER NOT NULL, HhNum INTEGER NOT NULL, Follow INTEGER NOT NULL)''')"
   ]
  },
  {
   "cell_type": "code",
   "execution_count": 26,
   "metadata": {},
   "outputs": [
    {
     "data": {
      "text/plain": [
       "<sqlite3.Cursor at 0x1d938834c70>"
      ]
     },
     "execution_count": 26,
     "metadata": {},
     "output_type": "execute_result"
    }
   ],
   "source": [
    "cur.execute('''INSERT OR REPLACE INTO NLMS_11_New\n",
    "            (Record, IndDea, Age, Age_Cat21, Age_Cat35, Age_Cat45, Age_Cat55, Age_Cat65, Age_Cat75, Age_Cat85, Age_Cat86Pl, Race, Sex, MarStat, HispOr, Educ_Elem, Educ_HS, Educ_HSCompl, Educ_Collg, Educ_CollgCompl, PlofBirth, Urban, SSNYN, Vt, Tenure, InPoverty, Poverty_Gr2, Poverty_Gr3, Poverty_Gr4, NotInPoverty, Esr, Res_NewEng, Res_MidAtl, Res_ENCentr, Res_WNCentr, Res_SAtl, Res_ESCentr, Res_WSCentr, Res_Mountain, Res_Pacific, HhNum, Follow)\n",
    "            SELECT Record, IndDea, Age, Age_Cat21, Age_Cat35, Age_Cat45, Age_Cat55, Age_Cat65, Age_Cat75, Age_Cat85, Age_Cat86Pl, Race, Sex, MarStat, HispOr, Educ_Elem, Educ_HS, Educ_HSCompl, Educ_Collg, Educ_CollgCompl, PlofBirth, Urban, SSNYN, Vt, Tenure, InPoverty, Poverty_Gr2, Poverty_Gr3, Poverty_Gr4, NotInPoverty, Esr, Res_NewEng, Res_MidAtl, Res_ENCentr, Res_WNCentr, Res_SAtl, Res_ESCentr, Res_WSCentr, Res_Mountain, Res_Pacific, HhNum, Follow FROM NLMS_11 WHERE (Age <>\"\" AND Age_Cat21=0 AND Race <>\"\" AND Sex <>\"\" AND MarStat <>\"\" AND HispOr <>\"\" AND Educ <>\"\" AND PlofBirth <>\"\" AND Esr <>\"\" AND Urban <>\"\" AND SSNYN <>\"\" AND Vt <>\"\" AND PovPct <>\"\" AND StateR <>\"\" AND Tenure <>\"\" AND HhNum <>\"\" AND Follow <>\"\")''')"
   ]
  },
  {
   "cell_type": "code",
   "execution_count": 27,
   "metadata": {
    "scrolled": false
   },
   "outputs": [
    {
     "name": "stdout",
     "output_type": "stream",
     "text": [
      "[(0, 'Record', 'INTEGER', 0, None, 1), (1, 'IndDea', 'INTEGER', 1, None, 0), (2, 'Age', 'INTEGER', 1, None, 0), (3, 'Age_Cat21', 'INTEGER', 1, None, 0), (4, 'Age_Cat35', 'INTEGER', 1, None, 0), (5, 'Age_Cat45', 'INTEGER', 1, None, 0), (6, 'Age_Cat55', 'INTEGER', 1, None, 0), (7, 'Age_Cat65', 'INTEGER', 1, None, 0), (8, 'Age_Cat75', 'INTEGER', 1, None, 0), (9, 'Age_Cat85', 'INTEGER', 1, None, 0), (10, 'Age_Cat86Pl', 'INTEGER', 1, None, 0), (11, 'Race', 'INTEGER', 1, None, 0), (12, 'Sex', 'INTEGER', 1, None, 0), (13, 'MarStat', 'INTEGER', 1, None, 0), (14, 'HispOr', 'INTEGER', 1, None, 0), (15, 'Educ_Elem', 'INTEGER', 1, None, 0), (16, 'Educ_HS', 'INTEGER', 1, None, 0), (17, 'Educ_HSCompl', 'INTEGER', 1, None, 0), (18, 'Educ_Collg', 'INTEGER', 1, None, 0), (19, 'Educ_CollgCompl', 'INTEGER', 1, None, 0), (20, 'PlofBirth', 'INTEGER', 1, None, 0), (21, 'Urban', 'INTEGER', 1, None, 0), (22, 'SSNYN', 'INTEGER', 1, None, 0), (23, 'Vt', 'INTEGER', 1, None, 0), (24, 'Tenure', 'INTEGER', 1, None, 0), (25, 'InPoverty', 'INTEGER', 1, None, 0), (26, 'Poverty_Gr2', 'INTEGER', 1, None, 0), (27, 'Poverty_Gr3', 'INTEGER', 1, None, 0), (28, 'Poverty_Gr4', 'INTEGER', 1, None, 0), (29, 'NotInPoverty', 'INTEGER', 1, None, 0), (30, 'Esr', 'INTEGER', 1, None, 0), (31, 'Res_NewEng', 'INTEGER', 1, None, 0), (32, 'Res_MidAtl', 'INTEGER', 1, None, 0), (33, 'Res_ENCentr', 'INTEGER', 1, None, 0), (34, 'Res_WNCentr', 'INTEGER', 1, None, 0), (35, 'Res_SAtl', 'INTEGER', 1, None, 0), (36, 'Res_ESCentr', 'INTEGER', 1, None, 0), (37, 'Res_WSCentr', 'INTEGER', 1, None, 0), (38, 'Res_Mountain', 'INTEGER', 1, None, 0), (39, 'Res_Pacific', 'INTEGER', 1, None, 0), (40, 'HhNum', 'INTEGER', 1, None, 0), (41, 'Follow', 'INTEGER', 1, None, 0)]\n"
     ]
    }
   ],
   "source": [
    "# Verifying if all columns were created\n",
    "cur.execute(\"PRAGMA table_info(NLMS_11_New)\")\n",
    "print(cur.fetchall())"
   ]
  },
  {
   "cell_type": "code",
   "execution_count": 28,
   "metadata": {},
   "outputs": [],
   "source": [
    "# Exporting wrangled data to a new CSV file\n",
    "data = cur.execute(\"SELECT * FROM NLMS_11_New\")\n",
    "\n",
    "with open('11_Updated_Data.csv', 'w', newline='') as f:\n",
    "    writer = csv.writer(f)\n",
    "    writer.writerow(['Record', 'IndDea', 'Age', 'Age_Cat21', 'Age_Cat35', 'Age_Cat45', 'Age_Cat55', 'Age_Cat65', 'Age_Cat75', 'Age_Cat85', 'Age_Cat86Pl', 'Race', 'Sex', 'MarStat', 'HispOr', 'Educ_Elem', 'Educ_HS', 'Educ_HSCompl', 'Educ_Collg', 'Educ_CollgCompl', 'PlofBirth', 'Urban', 'SSNYN', 'Vt', 'Tenure', 'InPoverty', 'Poverty_Gr2', 'Poverty_Gr3', 'Poverty_Gr4', 'NotInPoverty', 'Esr', 'Res_NewEng', 'Res_MidAtl', 'Res_ENCentr', 'Res_WNCentr', 'Res_SAtl', 'Res_ESCentr', 'Res_WSCentr', 'Res_Mountain', 'Res_Pacific', 'HhNum', 'Follow'])\n",
    "    writer.writerows(data)"
   ]
  },
  {
   "cell_type": "code",
   "execution_count": 29,
   "metadata": {},
   "outputs": [],
   "source": [
    "sql.close()"
   ]
  }
 ],
 "metadata": {
  "kernelspec": {
   "display_name": "Python 3",
   "language": "python",
   "name": "python3"
  },
  "language_info": {
   "codemirror_mode": {
    "name": "ipython",
    "version": 3
   },
   "file_extension": ".py",
   "mimetype": "text/x-python",
   "name": "python",
   "nbconvert_exporter": "python",
   "pygments_lexer": "ipython3",
   "version": "3.6.5"
  }
 },
 "nbformat": 4,
 "nbformat_minor": 2
}
